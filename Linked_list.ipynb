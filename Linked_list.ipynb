{
 "cells": [
  {
   "cell_type": "markdown",
   "id": "f000a7bd-5a3b-4d51-98fd-c0f041456e59",
   "metadata": {},
   "source": [
    "Node Creation"
   ]
  },
  {
   "cell_type": "code",
   "execution_count": 1,
   "id": "d0e9349d-1a5d-4125-b57e-259735e37cf9",
   "metadata": {},
   "outputs": [],
   "source": [
    "class Node:\n",
    "    def __init__ (self,data):\n",
    "        self.data = data\n",
    "        self.next = None"
   ]
  },
  {
   "cell_type": "code",
   "execution_count": 2,
   "id": "c720a7fb-861e-4cd5-a98e-a29aed4e043b",
   "metadata": {},
   "outputs": [],
   "source": [
    "class Linkedlist:\n",
    "    def __init__ (self):\n",
    "        self.head = None"
   ]
  },
  {
   "cell_type": "code",
   "execution_count": 3,
   "id": "e95bc8e6-2b20-4f08-87b7-dd5f7cd148b9",
   "metadata": {},
   "outputs": [],
   "source": [
    "def insert_begin(self,data):\n",
    "    new_node = Node(data)\n",
    "    new_node.next = self.head #next node of new node is current head\n",
    "    self.head = new_node #head is assigned as new node\n",
    "    "
   ]
  },
  {
   "cell_type": "code",
   "execution_count": 4,
   "id": "73457227-03bd-48b0-b67f-54478cc424b1",
   "metadata": {},
   "outputs": [],
   "source": [
    "def insertend(self,data):\n",
    "    nd1 = Node(data)\n",
    "    if self.head == None:\n",
    "        self.head = nd1\n",
    "    return\n",
    "    current = self.head\n",
    "    while current.next:\n",
    "        current = current.next\n",
    "    current.next = nd1"
   ]
  },
  {
   "cell_type": "markdown",
   "id": "425370ba-e123-449a-86d9-86617c83872b",
   "metadata": {},
   "source": [
    "creat a class names 'mylinkedlist' which can initialize and insert nodes at the begining"
   ]
  },
  {
   "cell_type": "code",
   "execution_count": 5,
   "id": "c9ba9e1a-7710-4bd7-a5dd-6f5b98fa27bc",
   "metadata": {},
   "outputs": [],
   "source": [
    "class Mylinkedlist:\n",
    "    class Node:\n",
    "        def __init__ (self,data):\n",
    "            self.data = data\n",
    "            self.next = None\n",
    "    def __init__ (self):\n",
    "        self.head = None\n",
    "    def insert_beg(self,data):\n",
    "        new_node =Node(data)\n",
    "        new_node.next = self.head\n",
    "        self.head = new_node\n",
    "    def insertend(self,data):\n",
    "        nd1 = Node(data)\n",
    "        if self.head == None:\n",
    "            self.head = nd1\n",
    "        return\n",
    "        current = self.head\n",
    "        while current.next:\n",
    "            current = current.next\n",
    "        current.next = nd1\n",
    "    \n",
    "    def insertaft(self,data,prev_node):\n",
    "        new_node = Node(data)\n",
    "        new_node.next = prev_node.next\n",
    "        prev_node.next = new_node\n",
    "    \n",
    "    def print_LL(self):\n",
    "        current = self.head\n",
    "        while current:\n",
    "            print(current.data, end = '-->')\n",
    "            current= current.next\n",
    "    def search(self,val):\n",
    "        current = self.head\n",
    "        while current:\n",
    "            if current.data == val:\n",
    "                return True\n",
    "            current = current.next\n",
    "        return False\n",
    "        \n",
    "    def deletef(self):\n",
    "        self.head = self.head.next\n",
    "        \n",
    "    def deleteend(self):\n",
    "        if self.head == 0:\n",
    "            return\n",
    "        current = self.head\n",
    "        while current.next.next:\n",
    "            current = current.next\n",
    "        current.next = None\n",
    "        return \n",
    "    \n",
    "    def del_by_val(self, x):\n",
    "        if self.head.data == x:\n",
    "            self.head = self.head.next\n",
    "            return \"Node deleted\"\n",
    "        current = self.head\n",
    "        while current.next:\n",
    "            if current.next.data!= x:\n",
    "                current.next = current.next.next\n",
    "                return \"Node deleted\"\n",
    "            current = current.next\n",
    "        return \"not found\"\n",
    "\n",
    "    \n"
   ]
  },
  {
   "cell_type": "code",
   "execution_count": 6,
   "id": "306edd43-ea6c-4c8d-a197-1e89458d2729",
   "metadata": {},
   "outputs": [],
   "source": [
    "ll = Mylinkedlist()\n",
    "ll.insert_beg(30)\n",
    "ll.insert_beg(20)\n",
    "ll.insert_beg(10)\n",
    "ll.deletef()\n",
    "ll.deleteend()\n",
    "ll.del_by_val(20)\n",
    "ll.print_LL()"
   ]
  },
  {
   "cell_type": "code",
   "execution_count": null,
   "id": "989f7221-c311-4ab5-b974-28dfcbc98954",
   "metadata": {},
   "outputs": [],
   "source": []
  },
  {
   "cell_type": "code",
   "execution_count": null,
   "id": "da8a2200-f244-4665-84ba-f808adade69b",
   "metadata": {},
   "outputs": [],
   "source": []
  },
  {
   "cell_type": "code",
   "execution_count": null,
   "id": "70f6a36a-3f3f-4915-a6f5-85ac8fd92913",
   "metadata": {},
   "outputs": [],
   "source": []
  }
 ],
 "metadata": {
  "kernelspec": {
   "display_name": "Python 3 (ipykernel)",
   "language": "python",
   "name": "python3"
  },
  "language_info": {
   "codemirror_mode": {
    "name": "ipython",
    "version": 3
   },
   "file_extension": ".py",
   "mimetype": "text/x-python",
   "name": "python",
   "nbconvert_exporter": "python",
   "pygments_lexer": "ipython3",
   "version": "3.11.7"
  }
 },
 "nbformat": 4,
 "nbformat_minor": 5
}
